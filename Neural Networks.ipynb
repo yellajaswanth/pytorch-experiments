{
 "cells": [
  {
   "cell_type": "code",
   "execution_count": 1,
   "metadata": {},
   "outputs": [],
   "source": [
    "%matplotlib inline\n",
    "import os\n",
    "import torch\n",
    "import torch.nn as nn\n",
    "from torch.autograd import Variable\n",
    "import torchvision.datasets as dset\n",
    "import torchvision.transforms as transforms\n",
    "from torchvision import utils\n",
    "import torch.nn.functional as F\n",
    "import torch.optim as optim\n",
    "\n",
    "import matplotlib.pyplot as plt\n",
    "import numpy as np"
   ]
  },
  {
   "cell_type": "code",
   "execution_count": 2,
   "metadata": {},
   "outputs": [
    {
     "data": {
      "text/plain": [
       "True"
      ]
     },
     "execution_count": 2,
     "metadata": {},
     "output_type": "execute_result"
    }
   ],
   "source": [
    "torch.cuda.is_available()"
   ]
  },
  {
   "cell_type": "code",
   "execution_count": 3,
   "metadata": {},
   "outputs": [],
   "source": [
    "data = './data'\n",
    "if not os.path.exists(data):\n",
    "    os.mkdir(data)"
   ]
  },
  {
   "cell_type": "code",
   "execution_count": 4,
   "metadata": {},
   "outputs": [],
   "source": [
    "transform = transforms.Compose([transforms.ToTensor(), transforms.Normalize((0.5,),(1.0,))])\n",
    "\n",
    "train_data = dset.MNIST(root=data, train=True, download=True, transform=transform)\n",
    "test_data = dset.MNIST(root=data, train=False, download=True, transform=transform)"
   ]
  },
  {
   "cell_type": "code",
   "execution_count": 5,
   "metadata": {},
   "outputs": [
    {
     "name": "stdout",
     "output_type": "stream",
     "text": [
      "Train Batches: 6000\n",
      "Test Batches: 1000\n"
     ]
    }
   ],
   "source": [
    "batch_size = 10\n",
    "\n",
    "train_loader = torch.utils.data.DataLoader(\n",
    "                    dataset=train_data,\n",
    "                    batch_size=batch_size,\n",
    "                    shuffle=True\n",
    "                )\n",
    "\n",
    "test_loader = torch.utils.data.DataLoader(\n",
    "                    dataset=test_data,\n",
    "                    batch_size=batch_size,\n",
    "                    shuffle=True\n",
    "                )\n",
    "print ('Train Batches: {}'.format(len(train_loader)))\n",
    "print ('Test Batches: {}'.format(len(test_loader)))"
   ]
  },
  {
   "cell_type": "code",
   "execution_count": 6,
   "metadata": {},
   "outputs": [],
   "source": [
    "class MLP(nn.Module):\n",
    "    def __init__(self):\n",
    "        super(MLP, self).__init__()\n",
    "        self.fc1 = nn.Linear(28*28, 500)\n",
    "        self.fc2 = nn.Linear(500, 256)\n",
    "        self.fc3 = nn.Linear(256, 10)\n",
    "        \n",
    "    def forward(self, x):\n",
    "        x = x.view(-1, 28*28)\n",
    "        x = F.relu(self.fc1(x))\n",
    "        x = F.relu(self.fc2(x))\n",
    "        x = self.fc3(x)\n",
    "        return x"
   ]
  },
  {
   "cell_type": "code",
   "execution_count": 7,
   "metadata": {},
   "outputs": [],
   "source": [
    "model = MLP()\n",
    "model = model.cuda()"
   ]
  },
  {
   "cell_type": "code",
   "execution_count": 8,
   "metadata": {},
   "outputs": [
    {
     "data": {
      "text/plain": [
       "MLP(\n",
       "  (fc1): Linear(in_features=784, out_features=500, bias=True)\n",
       "  (fc2): Linear(in_features=500, out_features=256, bias=True)\n",
       "  (fc3): Linear(in_features=256, out_features=10, bias=True)\n",
       ")"
      ]
     },
     "execution_count": 8,
     "metadata": {},
     "output_type": "execute_result"
    }
   ],
   "source": [
    "model"
   ]
  },
  {
   "cell_type": "code",
   "execution_count": 9,
   "metadata": {},
   "outputs": [],
   "source": [
    "optimizer = optim.SGD(model.parameters(),lr=0.01, momentum=0.9)"
   ]
  },
  {
   "cell_type": "code",
   "execution_count": 10,
   "metadata": {},
   "outputs": [],
   "source": [
    "criterion = nn.CrossEntropyLoss()"
   ]
  },
  {
   "cell_type": "code",
   "execution_count": 11,
   "metadata": {},
   "outputs": [],
   "source": [
    "def train(model, train_loader, criterion, optimizer, num_epochs):\n",
    "    for epoch in range(num_epochs):\n",
    "        for idx, (X,y) in enumerate(train_loader):\n",
    "            X,y = Variable(X.cuda()), Variable(y.cuda())\n",
    "            \n",
    "            optimizer.zero_grad()\n",
    "            \n",
    "            prediction = model(X)\n",
    "            train_loss = criterion(prediction, y)\n",
    "            train_loss.backward()\n",
    "            optimizer.step()\n",
    "        \n",
    "        total_cnt = 0\n",
    "        correct_cnt = 0\n",
    "        for idx, (X,y) in enumerate(test_loader):\n",
    "            X,y = Variable(X.cuda()), Variable(y.cuda())\n",
    "            prediction = model(X)\n",
    "            \n",
    "            test_loss = criterion(prediction, y)\n",
    "            _,y_pred = torch.max(prediction.data,1)\n",
    "            \n",
    "            total_cnt += X.data.size()[0]\n",
    "            correct_cnt += (y_pred == y.data).sum()\n",
    "            \n",
    "            val_accuracy = 100 * correct_cnt / total_cnt\n",
    "            \n",
    "        print(\"Epoch: {}/{} Train Loss: {} Validation Loss: {} Validation Accuracy: {} \".format(epoch+1,num_epochs,train_loss,\n",
    "                                                                                                test_loss, val_accuracy))"
   ]
  },
  {
   "cell_type": "code",
   "execution_count": 12,
   "metadata": {},
   "outputs": [
    {
     "name": "stdout",
     "output_type": "stream",
     "text": [
      "Epoch: 1/5 Train Loss: 0.013572740368545055 Validation Loss: 0.45042920112609863 Validation Accuracy: 93 \n",
      "Epoch: 2/5 Train Loss: 0.14710859954357147 Validation Loss: 0.4660528600215912 Validation Accuracy: 95 \n",
      "Epoch: 3/5 Train Loss: 0.004250478930771351 Validation Loss: 0.026357555761933327 Validation Accuracy: 96 \n",
      "Epoch: 4/5 Train Loss: 0.011965751647949219 Validation Loss: 0.01811523362994194 Validation Accuracy: 97 \n",
      "Epoch: 5/5 Train Loss: 0.008028221316635609 Validation Loss: 0.0019460677867755294 Validation Accuracy: 96 \n"
     ]
    }
   ],
   "source": [
    "num_epochs = 5\n",
    "train(model, train_loader, criterion, optimizer, num_epochs)"
   ]
  },
  {
   "cell_type": "code",
   "execution_count": 15,
   "metadata": {},
   "outputs": [
    {
     "name": "stderr",
     "output_type": "stream",
     "text": [
      "Clipping input data to the valid range for imshow with RGB data ([0..1] for floats or [0..255] for integers).\n"
     ]
    },
    {
     "name": "stdout",
     "output_type": "stream",
     "text": [
      "Ground truth:      1     4     3     8     1     6     2     0     2     8\n"
     ]
    },
    {
     "data": {
      "image/png": "[encoded data removed]",
      "text/plain": [
       "<Figure size 432x288 with 1 Axes>"
      ]
     },
     "metadata": {},
     "output_type": "display_data"
    }
   ],
   "source": [
    "classes = ('0','1','2','3','4','5','6','7','8','9')\n",
    "\n",
    "dataiter = iter(test_loader)\n",
    "X,y = dataiter.next()\n",
    "# outputs = model(Variable(X))\n",
    "# print(outputs)\n",
    "# print(classes)\n",
    "\n",
    "img=utils.make_grid(X)\n",
    "plt.imshow(np.transpose(img.numpy(), (1, 2, 0)))\n",
    "# print labels\n",
    "print('Ground truth: ', ' '.join('%5s' % classes[y[j]] for j in range(batch_size)))"
   ]
  },
  {
   "cell_type": "code",
   "execution_count": 26,
   "metadata": {},
   "outputs": [
    {
     "name": "stderr",
     "output_type": "stream",
     "text": [
      "Clipping input data to the valid range for imshow with RGB data ([0..1] for floats or [0..255] for integers).\n"
     ]
    },
    {
     "name": "stdout",
     "output_type": "stream",
     "text": [
      "tensor([[ -2.4153,   7.4875,  -0.5769,   0.9694,   0.1406,  -5.6353,\n",
      "          -4.8079,   3.9468,   3.1853,  -1.6352],\n",
      "        [ -7.9401,  -2.1801,  -2.9119, -10.8809,  24.9047,   2.6015,\n",
      "          -1.3775,  -3.3306,  -2.5028,   3.7406],\n",
      "        [ -7.1150,   0.8972,  -1.6344,  18.6065,  -3.5241,   5.2452,\n",
      "         -13.8560,  -7.3989,   0.2844,   8.1313],\n",
      "        [ -3.6060,   5.0593,  -5.9272,  -6.2265,   2.6875,   2.9697,\n",
      "           3.1547,  -4.4932,  14.6294,  -7.2613],\n",
      "        [ -4.7301,  13.4723,   1.1086,  -7.8123,   0.6219,   0.1544,\n",
      "           1.0342,  -0.3463,   1.0999,  -4.0053],\n",
      "        [  0.8047,  -1.9770,   1.9497,  -1.3558,   0.9231,   3.9797,\n",
      "          12.5404,  -9.5973,  -0.1337,  -6.7806],\n",
      "        [ -1.9046,  -2.7062,   5.6178,  -1.5060,   1.2059,   0.8908,\n",
      "           3.8252,  -5.3306,   0.5705,  -0.2847],\n",
      "        [ 20.6530,  -8.8335,   2.3124,  -8.8408,   4.5354,  -7.3023,\n",
      "           5.3562,  -1.9239, -11.0383,   3.7907],\n",
      "        [ -6.0812,   1.1464,  29.7792,   7.1301,  -9.9683,  -0.3520,\n",
      "          -8.3836,   6.0237,  -8.1132,  -7.3894],\n",
      "        [ -1.3968,   0.2793,  -0.7813,   3.7811,  -0.3645,  -0.3491,\n",
      "          -1.7598,  -3.3313,   5.1089,  -1.5239]], device='cuda:0')\n",
      "('0', '1', '2', '3', '4', '5', '6', '7', '8', '9')\n",
      "Ground truth:      1     4     3     8     1     6     2     0     2     8\n"
     ]
    },
    {
     "data": {
      "image/png": "[encoded data removed]",
      "text/plain": [
       "<Figure size 432x288 with 1 Axes>"
      ]
     },
     "metadata": {},
     "output_type": "display_data"
    }
   ],
   "source": [
    "outputs = model(Variable(X.cuda()))\n",
    "print(outputs)\n",
    "print(classes)\n",
    "\n",
    "# show normalized images\n",
    "img=utils.make_grid(X)\n",
    "plt.imshow(np.transpose(img.numpy(), (1, 2, 0)))\n",
    "# print labels\n",
    "print('Ground truth: ', ' '.join('%5s' % classes[y[j]] for j in range(batch_size)))\n",
    "\n",
    "_, predicted = torch.max(outputs.data, 1)\n",
    "\n",
    "# print('Predicted: ', ' '.join('%5s' % classes[predicted[j]]\n",
    "#                               for j in range(batch_size)))"
   ]
  },
  {
   "cell_type": "code",
   "execution_count": 25,
   "metadata": {},
   "outputs": [
    {
     "data": {
      "text/plain": [
       "tensor([[[ 0,  0,  0,  ...,  0,  0,  0],\n",
       "         [ 0,  0,  0,  ...,  0,  0,  0],\n",
       "         [ 0,  0,  0,  ...,  0,  0,  0],\n",
       "         ...,\n",
       "         [ 0,  0,  0,  ...,  0,  0,  0],\n",
       "         [ 0,  0,  0,  ...,  0,  0,  0],\n",
       "         [ 0,  0,  0,  ...,  0,  0,  0]],\n",
       "\n",
       "        [[ 0,  0,  0,  ...,  0,  0,  0],\n",
       "         [ 0,  0,  0,  ...,  0,  0,  0],\n",
       "         [ 0,  0,  0,  ...,  0,  0,  0],\n",
       "         ...,\n",
       "         [ 0,  0,  0,  ...,  0,  0,  0],\n",
       "         [ 0,  0,  0,  ...,  0,  0,  0],\n",
       "         [ 0,  0,  0,  ...,  0,  0,  0]],\n",
       "\n",
       "        [[ 0,  0,  0,  ...,  0,  0,  0],\n",
       "         [ 0,  0,  0,  ...,  0,  0,  0],\n",
       "         [ 0,  0,  0,  ...,  0,  0,  0],\n",
       "         ...,\n",
       "         [ 0,  0,  0,  ...,  0,  0,  0],\n",
       "         [ 0,  0,  0,  ...,  0,  0,  0],\n",
       "         [ 0,  0,  0,  ...,  0,  0,  0]],\n",
       "\n",
       "        ...,\n",
       "\n",
       "        [[ 0,  0,  0,  ...,  0,  0,  0],\n",
       "         [ 0,  0,  0,  ...,  0,  0,  0],\n",
       "         [ 0,  0,  0,  ...,  0,  0,  0],\n",
       "         ...,\n",
       "         [ 0,  0,  0,  ...,  0,  0,  0],\n",
       "         [ 0,  0,  0,  ...,  0,  0,  0],\n",
       "         [ 0,  0,  0,  ...,  0,  0,  0]],\n",
       "\n",
       "        [[ 0,  0,  0,  ...,  0,  0,  0],\n",
       "         [ 0,  0,  0,  ...,  0,  0,  0],\n",
       "         [ 0,  0,  0,  ...,  0,  0,  0],\n",
       "         ...,\n",
       "         [ 0,  0,  0,  ...,  0,  0,  0],\n",
       "         [ 0,  0,  0,  ...,  0,  0,  0],\n",
       "         [ 0,  0,  0,  ...,  0,  0,  0]],\n",
       "\n",
       "        [[ 0,  0,  0,  ...,  0,  0,  0],\n",
       "         [ 0,  0,  0,  ...,  0,  0,  0],\n",
       "         [ 0,  0,  0,  ...,  0,  0,  0],\n",
       "         ...,\n",
       "         [ 0,  0,  0,  ...,  0,  0,  0],\n",
       "         [ 0,  0,  0,  ...,  0,  0,  0],\n",
       "         [ 0,  0,  0,  ...,  0,  0,  0]]])"
      ]
     },
     "execution_count": 25,
     "metadata": {},
     "output_type": "execute_result"
    }
   ],
   "source": [
    "predicted"
   ]
  }
 ],
 "metadata": {
  "kernelspec": {
   "display_name": "Python 3",
   "language": "python",
   "name": "python3"
  },
  "language_info": {
   "codemirror_mode": {
    "name": "ipython",
    "version": 3
   },
   "file_extension": ".py",
   "mimetype": "text/x-python",
   "name": "python",
   "nbconvert_exporter": "python",
   "pygments_lexer": "ipython3",
   "version": "3.6.5"
  }
 },
 "nbformat": 4,
 "nbformat_minor": 2
}
